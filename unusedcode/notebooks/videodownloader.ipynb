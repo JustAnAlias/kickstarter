{
 "cells": [
  {
   "cell_type": "markdown",
   "metadata": {},
   "source": [
    "The videodownloader works by reading projectnames from our initial dataset and create the URL to the kickstarterpage.\n",
    "We use our own webget.py (modified to return the page to the caller, if no destination file) to download the page using the url\n",
    "\n",
    "it then searches for <video> tags.\n",
    "In these tags there are usually two links, one for a high resolution video and a low resolution video.\n",
    "\n",
    "We chose to \n",
    "\n"
   ]
  }
 ],
 "metadata": {
  "kernelspec": {
   "display_name": "Python 3",
   "language": "python",
   "name": "python3"
  },
  "language_info": {
   "codemirror_mode": {
    "name": "ipython",
    "version": 3
   },
   "file_extension": ".py",
   "mimetype": "text/x-python",
   "name": "python",
   "nbconvert_exporter": "python",
   "pygments_lexer": "ipython3",
   "version": "3.4.3"
  }
 },
 "nbformat": 4,
 "nbformat_minor": 2
}
